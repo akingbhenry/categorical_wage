{
 "cells": [
  {
   "cell_type": "code",
   "execution_count": 1,
   "id": "c85711c7",
   "metadata": {},
   "outputs": [],
   "source": [
    "import numpy as np\n",
    "import pandas as pd"
   ]
  },
  {
   "cell_type": "markdown",
   "id": "7fb3bf94",
   "metadata": {},
   "source": [
    "## Read the `Wage` File"
   ]
  },
  {
   "cell_type": "code",
   "execution_count": 2,
   "id": "050606cd",
   "metadata": {},
   "outputs": [],
   "source": [
    "wage_df = pd.read_csv(\"wage.csv\")"
   ]
  },
  {
   "cell_type": "code",
   "execution_count": 3,
   "id": "d5616a23",
   "metadata": {
    "scrolled": true
   },
   "outputs": [
    {
     "data": {
      "text/html": [
       "<div>\n",
       "<style scoped>\n",
       "    .dataframe tbody tr th:only-of-type {\n",
       "        vertical-align: middle;\n",
       "    }\n",
       "\n",
       "    .dataframe tbody tr th {\n",
       "        vertical-align: top;\n",
       "    }\n",
       "\n",
       "    .dataframe thead th {\n",
       "        text-align: right;\n",
       "    }\n",
       "</style>\n",
       "<table border=\"1\" class=\"dataframe\">\n",
       "  <thead>\n",
       "    <tr style=\"text-align: right;\">\n",
       "      <th></th>\n",
       "      <th>year</th>\n",
       "      <th>age</th>\n",
       "      <th>maritl</th>\n",
       "      <th>race</th>\n",
       "      <th>education</th>\n",
       "      <th>region</th>\n",
       "      <th>jobclass</th>\n",
       "      <th>health</th>\n",
       "      <th>health_ins</th>\n",
       "      <th>logwage</th>\n",
       "      <th>wage</th>\n",
       "    </tr>\n",
       "  </thead>\n",
       "  <tbody>\n",
       "    <tr>\n",
       "      <th>0</th>\n",
       "      <td>2006</td>\n",
       "      <td>18</td>\n",
       "      <td>1. Never Married</td>\n",
       "      <td>1. White</td>\n",
       "      <td>1. &lt; HS Grad</td>\n",
       "      <td>2. Middle Atlantic</td>\n",
       "      <td>1. Industrial</td>\n",
       "      <td>1. &lt;=Good</td>\n",
       "      <td>2. No</td>\n",
       "      <td>4.318063</td>\n",
       "      <td>75.043154</td>\n",
       "    </tr>\n",
       "    <tr>\n",
       "      <th>1</th>\n",
       "      <td>2004</td>\n",
       "      <td>24</td>\n",
       "      <td>1. Never Married</td>\n",
       "      <td>1. White</td>\n",
       "      <td>4. College Grad</td>\n",
       "      <td>2. Middle Atlantic</td>\n",
       "      <td>2. Information</td>\n",
       "      <td>2. &gt;=Very Good</td>\n",
       "      <td>2. No</td>\n",
       "      <td>4.255273</td>\n",
       "      <td>70.476020</td>\n",
       "    </tr>\n",
       "    <tr>\n",
       "      <th>2</th>\n",
       "      <td>2003</td>\n",
       "      <td>45</td>\n",
       "      <td>2. Married</td>\n",
       "      <td>1. White</td>\n",
       "      <td>3. Some College</td>\n",
       "      <td>2. Middle Atlantic</td>\n",
       "      <td>1. Industrial</td>\n",
       "      <td>1. &lt;=Good</td>\n",
       "      <td>1. Yes</td>\n",
       "      <td>4.875061</td>\n",
       "      <td>130.982177</td>\n",
       "    </tr>\n",
       "  </tbody>\n",
       "</table>\n",
       "</div>"
      ],
      "text/plain": [
       "   year  age            maritl      race        education              region  \\\n",
       "0  2006   18  1. Never Married  1. White     1. < HS Grad  2. Middle Atlantic   \n",
       "1  2004   24  1. Never Married  1. White  4. College Grad  2. Middle Atlantic   \n",
       "2  2003   45        2. Married  1. White  3. Some College  2. Middle Atlantic   \n",
       "\n",
       "         jobclass          health health_ins   logwage        wage  \n",
       "0   1. Industrial       1. <=Good      2. No  4.318063   75.043154  \n",
       "1  2. Information  2. >=Very Good      2. No  4.255273   70.476020  \n",
       "2   1. Industrial       1. <=Good     1. Yes  4.875061  130.982177  "
      ]
     },
     "execution_count": 3,
     "metadata": {},
     "output_type": "execute_result"
    }
   ],
   "source": [
    "wage_df.head(3)"
   ]
  },
  {
   "cell_type": "code",
   "execution_count": 4,
   "id": "2107f16c",
   "metadata": {},
   "outputs": [
    {
     "data": {
      "text/plain": [
       "year            int64\n",
       "age             int64\n",
       "maritl         object\n",
       "race           object\n",
       "education      object\n",
       "region         object\n",
       "jobclass       object\n",
       "health         object\n",
       "health_ins     object\n",
       "logwage       float64\n",
       "wage          float64\n",
       "dtype: object"
      ]
     },
     "execution_count": 4,
     "metadata": {},
     "output_type": "execute_result"
    }
   ],
   "source": [
    "wage_df.dtypes #we can see that everything except for year age (log) wage are categorical"
   ]
  },
  {
   "cell_type": "markdown",
   "id": "a8881eb2",
   "metadata": {},
   "source": [
    "### Check unique values in the `jobclass` column"
   ]
  },
  {
   "cell_type": "code",
   "execution_count": 5,
   "id": "df3371a1",
   "metadata": {},
   "outputs": [
    {
     "data": {
      "text/plain": [
       "array(['1. Industrial', '2. Information'], dtype=object)"
      ]
     },
     "execution_count": 5,
     "metadata": {},
     "output_type": "execute_result"
    }
   ],
   "source": [
    "wage_df.jobclass.unique() #only two -- easy to replace"
   ]
  },
  {
   "cell_type": "code",
   "execution_count": 6,
   "id": "1c947fdb",
   "metadata": {},
   "outputs": [],
   "source": [
    "wage_df[\"job_information\"] =  (wage_df[\"jobclass\"] == \"2. Information\").astype(int) #so that =1 means information"
   ]
  },
  {
   "cell_type": "code",
   "execution_count": 7,
   "id": "7a78b7be",
   "metadata": {},
   "outputs": [],
   "source": [
    "wage_df.drop(['jobclass', 'logwage', 'region', 'year'], axis=1, inplace=True) #lets delete jobclass and logwage now"
   ]
  },
  {
   "cell_type": "markdown",
   "id": "19c1beb1",
   "metadata": {},
   "source": [
    "### Check unique values in the `health` column"
   ]
  },
  {
   "cell_type": "code",
   "execution_count": 8,
   "id": "9cad3af6",
   "metadata": {},
   "outputs": [
    {
     "data": {
      "text/plain": [
       "array(['1. <=Good', '2. >=Very Good'], dtype=object)"
      ]
     },
     "execution_count": 8,
     "metadata": {},
     "output_type": "execute_result"
    }
   ],
   "source": [
    "wage_df.health.unique() #only two -- easy to replace"
   ]
  },
  {
   "cell_type": "code",
   "execution_count": 9,
   "id": "f15c038a",
   "metadata": {},
   "outputs": [],
   "source": [
    "wage_df[\"health\"] =  (wage_df[\"health\"] == \"2. >=Very Good\").astype(int) #so that =1 means very good health"
   ]
  },
  {
   "cell_type": "markdown",
   "id": "e347d3a9",
   "metadata": {},
   "source": [
    "### Apply the same for `health_ins`"
   ]
  },
  {
   "cell_type": "code",
   "execution_count": 16,
   "id": "b0cefaf3",
   "metadata": {},
   "outputs": [
    {
     "data": {
      "text/plain": [
       "array(['2. No', '1. Yes'], dtype=object)"
      ]
     },
     "execution_count": 16,
     "metadata": {},
     "output_type": "execute_result"
    }
   ],
   "source": [
    "wage_df.health_ins.unique() #only two -- easy to replace"
   ]
  },
  {
   "cell_type": "code",
   "execution_count": 17,
   "id": "d28b385e",
   "metadata": {},
   "outputs": [],
   "source": [
    "wage_df[\"health_ins\"] =  (wage_df[\"health_ins\"] == \"1. Yes\").astype(int) #so that =1 means has a health insurance"
   ]
  },
  {
   "cell_type": "markdown",
   "id": "c9e71d98",
   "metadata": {},
   "source": [
    "### Check unique values in the `maritl` column"
   ]
  },
  {
   "cell_type": "code",
   "execution_count": 10,
   "id": "6237b4be",
   "metadata": {},
   "outputs": [
    {
     "data": {
      "text/plain": [
       "array(['1. Never Married', '2. Married', '4. Divorced', '3. Widowed',\n",
       "       '5. Separated'], dtype=object)"
      ]
     },
     "execution_count": 10,
     "metadata": {},
     "output_type": "execute_result"
    }
   ],
   "source": [
    "wage_df.maritl.unique() #we cannot make this 1-2-3-4-5 as this is nominal"
   ]
  },
  {
   "cell_type": "code",
   "execution_count": 11,
   "id": "44f17a7b",
   "metadata": {},
   "outputs": [],
   "source": [
    "one_hot = pd.get_dummies(wage_df.maritl, prefix='marriage')"
   ]
  },
  {
   "cell_type": "code",
   "execution_count": 12,
   "id": "560391f1",
   "metadata": {},
   "outputs": [],
   "source": [
    "wage_df = wage_df.join(one_hot)"
   ]
  },
  {
   "cell_type": "code",
   "execution_count": 13,
   "id": "bef910e3",
   "metadata": {},
   "outputs": [],
   "source": [
    "wage_df.drop(['maritl', 'marriage_1. Never Married'], axis=1, inplace=True)"
   ]
  },
  {
   "cell_type": "code",
   "execution_count": 14,
   "id": "9f70aff1",
   "metadata": {},
   "outputs": [],
   "source": [
    "wage_df.columns = [*wage_df.columns[:-4], 'marriage_yes',\\\n",
    "                   'marriage_widowed', 'marriage_divorced', 'marriage_separated'] #we drop one -- why?"
   ]
  },
  {
   "cell_type": "markdown",
   "id": "7ea50f1a",
   "metadata": {},
   "source": [
    "### Decide what to do for `education`"
   ]
  },
  {
   "cell_type": "code",
   "execution_count": 20,
   "id": "37fd118b",
   "metadata": {},
   "outputs": [
    {
     "data": {
      "text/plain": [
       "array(['1. < HS Grad', '4. College Grad', '3. Some College', '2. HS Grad',\n",
       "       '5. Advanced Degree'], dtype=object)"
      ]
     },
     "execution_count": 20,
     "metadata": {},
     "output_type": "execute_result"
    }
   ],
   "source": [
    "wage_df.education.unique() #it looks like we can take these as ordinal categories"
   ]
  },
  {
   "cell_type": "code",
   "execution_count": 23,
   "id": "d449ac8b",
   "metadata": {},
   "outputs": [],
   "source": [
    "wage_df.education = (wage_df.education.astype(str).str[0]).astype(int)"
   ]
  },
  {
   "cell_type": "markdown",
   "id": "30aed6fc",
   "metadata": {},
   "source": [
    "### Decide what to do for `race`"
   ]
  },
  {
   "cell_type": "code",
   "execution_count": 27,
   "id": "a9da7447",
   "metadata": {},
   "outputs": [
    {
     "data": {
      "text/plain": [
       "array(['1. White', '3. Asian', '4. Other', '2. Black'], dtype=object)"
      ]
     },
     "execution_count": 27,
     "metadata": {},
     "output_type": "execute_result"
    }
   ],
   "source": [
    "wage_df.race.unique() #these are nominal categories"
   ]
  },
  {
   "cell_type": "code",
   "execution_count": 28,
   "id": "fe2237e3",
   "metadata": {},
   "outputs": [],
   "source": [
    "one_hot = pd.get_dummies(wage_df.race, prefix='race')"
   ]
  },
  {
   "cell_type": "code",
   "execution_count": 30,
   "id": "e3e93565",
   "metadata": {},
   "outputs": [],
   "source": [
    "wage_df = wage_df.join(one_hot)"
   ]
  },
  {
   "cell_type": "code",
   "execution_count": 32,
   "id": "6b5e8738",
   "metadata": {},
   "outputs": [],
   "source": [
    "wage_df.drop(['race', 'race_4. Other'], axis=1, inplace=True)"
   ]
  },
  {
   "cell_type": "code",
   "execution_count": 34,
   "id": "a26140cd",
   "metadata": {},
   "outputs": [],
   "source": [
    "wage_df.columns = [*wage_df.columns[:-3], 'race_white', 'race_black', 'race_asian'] #we drop one -- why?"
   ]
  },
  {
   "cell_type": "code",
   "execution_count": 37,
   "id": "1b1ecdca",
   "metadata": {},
   "outputs": [
    {
     "data": {
      "text/html": [
       "<div>\n",
       "<style scoped>\n",
       "    .dataframe tbody tr th:only-of-type {\n",
       "        vertical-align: middle;\n",
       "    }\n",
       "\n",
       "    .dataframe tbody tr th {\n",
       "        vertical-align: top;\n",
       "    }\n",
       "\n",
       "    .dataframe thead th {\n",
       "        text-align: right;\n",
       "    }\n",
       "</style>\n",
       "<table border=\"1\" class=\"dataframe\">\n",
       "  <thead>\n",
       "    <tr style=\"text-align: right;\">\n",
       "      <th></th>\n",
       "      <th>age</th>\n",
       "      <th>education</th>\n",
       "      <th>health</th>\n",
       "      <th>health_ins</th>\n",
       "      <th>wage</th>\n",
       "      <th>job_information</th>\n",
       "      <th>marriage_yes</th>\n",
       "      <th>marriage_widowed</th>\n",
       "      <th>marriage_divorced</th>\n",
       "      <th>marriage_separated</th>\n",
       "      <th>race_white</th>\n",
       "      <th>race_black</th>\n",
       "      <th>race_asian</th>\n",
       "    </tr>\n",
       "  </thead>\n",
       "  <tbody>\n",
       "    <tr>\n",
       "      <th>0</th>\n",
       "      <td>18</td>\n",
       "      <td>1</td>\n",
       "      <td>0</td>\n",
       "      <td>0</td>\n",
       "      <td>75.043154</td>\n",
       "      <td>0</td>\n",
       "      <td>0</td>\n",
       "      <td>0</td>\n",
       "      <td>0</td>\n",
       "      <td>0</td>\n",
       "      <td>1</td>\n",
       "      <td>0</td>\n",
       "      <td>0</td>\n",
       "    </tr>\n",
       "    <tr>\n",
       "      <th>1</th>\n",
       "      <td>24</td>\n",
       "      <td>4</td>\n",
       "      <td>1</td>\n",
       "      <td>0</td>\n",
       "      <td>70.476020</td>\n",
       "      <td>1</td>\n",
       "      <td>0</td>\n",
       "      <td>0</td>\n",
       "      <td>0</td>\n",
       "      <td>0</td>\n",
       "      <td>1</td>\n",
       "      <td>0</td>\n",
       "      <td>0</td>\n",
       "    </tr>\n",
       "    <tr>\n",
       "      <th>2</th>\n",
       "      <td>45</td>\n",
       "      <td>3</td>\n",
       "      <td>0</td>\n",
       "      <td>1</td>\n",
       "      <td>130.982177</td>\n",
       "      <td>0</td>\n",
       "      <td>1</td>\n",
       "      <td>0</td>\n",
       "      <td>0</td>\n",
       "      <td>0</td>\n",
       "      <td>1</td>\n",
       "      <td>0</td>\n",
       "      <td>0</td>\n",
       "    </tr>\n",
       "    <tr>\n",
       "      <th>3</th>\n",
       "      <td>43</td>\n",
       "      <td>4</td>\n",
       "      <td>1</td>\n",
       "      <td>1</td>\n",
       "      <td>154.685293</td>\n",
       "      <td>1</td>\n",
       "      <td>1</td>\n",
       "      <td>0</td>\n",
       "      <td>0</td>\n",
       "      <td>0</td>\n",
       "      <td>0</td>\n",
       "      <td>0</td>\n",
       "      <td>1</td>\n",
       "    </tr>\n",
       "    <tr>\n",
       "      <th>4</th>\n",
       "      <td>50</td>\n",
       "      <td>2</td>\n",
       "      <td>0</td>\n",
       "      <td>1</td>\n",
       "      <td>75.043154</td>\n",
       "      <td>1</td>\n",
       "      <td>0</td>\n",
       "      <td>0</td>\n",
       "      <td>1</td>\n",
       "      <td>0</td>\n",
       "      <td>1</td>\n",
       "      <td>0</td>\n",
       "      <td>0</td>\n",
       "    </tr>\n",
       "  </tbody>\n",
       "</table>\n",
       "</div>"
      ],
      "text/plain": [
       "   age  education  health  health_ins        wage  job_information  \\\n",
       "0   18          1       0           0   75.043154                0   \n",
       "1   24          4       1           0   70.476020                1   \n",
       "2   45          3       0           1  130.982177                0   \n",
       "3   43          4       1           1  154.685293                1   \n",
       "4   50          2       0           1   75.043154                1   \n",
       "\n",
       "   marriage_yes  marriage_widowed  marriage_divorced  marriage_separated  \\\n",
       "0             0                 0                  0                   0   \n",
       "1             0                 0                  0                   0   \n",
       "2             1                 0                  0                   0   \n",
       "3             1                 0                  0                   0   \n",
       "4             0                 0                  1                   0   \n",
       "\n",
       "   race_white  race_black  race_asian  \n",
       "0           1           0           0  \n",
       "1           1           0           0  \n",
       "2           1           0           0  \n",
       "3           0           0           1  \n",
       "4           1           0           0  "
      ]
     },
     "execution_count": 37,
     "metadata": {},
     "output_type": "execute_result"
    }
   ],
   "source": [
    "wage_df.head()"
   ]
  },
  {
   "cell_type": "markdown",
   "id": "fbc06179",
   "metadata": {},
   "source": [
    "#### We can see that all the categories are now converted to numerical values. We have changed the ordinal ones to simply positive integers, and encoded the nominal ones by using dummies. "
   ]
  },
  {
   "cell_type": "markdown",
   "id": "9a18190a",
   "metadata": {},
   "source": [
    "### Now apply a linear regression and interpret coefficients"
   ]
  },
  {
   "cell_type": "code",
   "execution_count": 40,
   "id": "98b38716",
   "metadata": {},
   "outputs": [],
   "source": [
    "from sklearn.linear_model import LinearRegression"
   ]
  },
  {
   "cell_type": "code",
   "execution_count": 42,
   "id": "0479ca1a",
   "metadata": {},
   "outputs": [],
   "source": [
    "reg = LinearRegression().fit(wage_df.drop(\"wage\", axis=1), wage_df.wage)"
   ]
  },
  {
   "cell_type": "code",
   "execution_count": 57,
   "id": "45794578",
   "metadata": {},
   "outputs": [],
   "source": [
    "df_coeff = pd.DataFrame({'predictors':wage_df.drop(\"wage\", axis=1).columns, 'coefficients':reg.coef_})"
   ]
  },
  {
   "cell_type": "code",
   "execution_count": 58,
   "id": "c4e2c6bc",
   "metadata": {},
   "outputs": [
    {
     "data": {
      "text/html": [
       "<div>\n",
       "<style scoped>\n",
       "    .dataframe tbody tr th:only-of-type {\n",
       "        vertical-align: middle;\n",
       "    }\n",
       "\n",
       "    .dataframe tbody tr th {\n",
       "        vertical-align: top;\n",
       "    }\n",
       "\n",
       "    .dataframe thead th {\n",
       "        text-align: right;\n",
       "    }\n",
       "</style>\n",
       "<table border=\"1\" class=\"dataframe\">\n",
       "  <thead>\n",
       "    <tr style=\"text-align: right;\">\n",
       "      <th></th>\n",
       "      <th>predictors</th>\n",
       "      <th>coefficients</th>\n",
       "    </tr>\n",
       "  </thead>\n",
       "  <tbody>\n",
       "    <tr>\n",
       "      <th>0</th>\n",
       "      <td>age</td>\n",
       "      <td>0.303748</td>\n",
       "    </tr>\n",
       "    <tr>\n",
       "      <th>1</th>\n",
       "      <td>education</td>\n",
       "      <td>13.344081</td>\n",
       "    </tr>\n",
       "    <tr>\n",
       "      <th>2</th>\n",
       "      <td>health</td>\n",
       "      <td>6.604230</td>\n",
       "    </tr>\n",
       "    <tr>\n",
       "      <th>3</th>\n",
       "      <td>health_ins</td>\n",
       "      <td>16.996045</td>\n",
       "    </tr>\n",
       "    <tr>\n",
       "      <th>4</th>\n",
       "      <td>job_information</td>\n",
       "      <td>3.785646</td>\n",
       "    </tr>\n",
       "    <tr>\n",
       "      <th>5</th>\n",
       "      <td>marriage_yes</td>\n",
       "      <td>17.179947</td>\n",
       "    </tr>\n",
       "    <tr>\n",
       "      <th>6</th>\n",
       "      <td>marriage_widowed</td>\n",
       "      <td>0.972707</td>\n",
       "    </tr>\n",
       "    <tr>\n",
       "      <th>7</th>\n",
       "      <td>marriage_divorced</td>\n",
       "      <td>3.491899</td>\n",
       "    </tr>\n",
       "    <tr>\n",
       "      <th>8</th>\n",
       "      <td>marriage_separated</td>\n",
       "      <td>12.132549</td>\n",
       "    </tr>\n",
       "    <tr>\n",
       "      <th>9</th>\n",
       "      <td>race_white</td>\n",
       "      <td>4.734301</td>\n",
       "    </tr>\n",
       "    <tr>\n",
       "      <th>10</th>\n",
       "      <td>race_black</td>\n",
       "      <td>-0.408013</td>\n",
       "    </tr>\n",
       "    <tr>\n",
       "      <th>11</th>\n",
       "      <td>race_asian</td>\n",
       "      <td>3.246140</td>\n",
       "    </tr>\n",
       "  </tbody>\n",
       "</table>\n",
       "</div>"
      ],
      "text/plain": [
       "            predictors  coefficients\n",
       "0                  age      0.303748\n",
       "1            education     13.344081\n",
       "2               health      6.604230\n",
       "3           health_ins     16.996045\n",
       "4      job_information      3.785646\n",
       "5         marriage_yes     17.179947\n",
       "6     marriage_widowed      0.972707\n",
       "7    marriage_divorced      3.491899\n",
       "8   marriage_separated     12.132549\n",
       "9           race_white      4.734301\n",
       "10          race_black     -0.408013\n",
       "11          race_asian      3.246140"
      ]
     },
     "execution_count": 58,
     "metadata": {},
     "output_type": "execute_result"
    }
   ],
   "source": [
    "df_coeff"
   ]
  },
  {
   "cell_type": "markdown",
   "id": "c712f9b4",
   "metadata": {},
   "source": [
    "#### Some observations\n",
    "- A married person is expected to have 17.18 units more wage compared to a person who is not married, if everything else remains the same.\n",
    "- One level higher education brings in average 13.4 units more wage.\n",
    "- Insured people make in average 17 units more wage.\n",
    "- Widowed ones make less than the ones that were never married (again, given everything else is the same, and this result is in *expectation*)."
   ]
  },
  {
   "cell_type": "markdown",
   "id": "72b7746c",
   "metadata": {},
   "source": [
    "#### Discussion on ethics: \n",
    "- If we are trying to understand which group of people make less than the others, using these coefficients are fine in general. However, if we are going to make decisions such as whether or not we should give loans to some people, it is typically not ethical to use some of the information such as race or gender."
   ]
  }
 ],
 "metadata": {
  "kernelspec": {
   "display_name": "Python 3 (ipykernel)",
   "language": "python",
   "name": "python3"
  },
  "language_info": {
   "codemirror_mode": {
    "name": "ipython",
    "version": 3
   },
   "file_extension": ".py",
   "mimetype": "text/x-python",
   "name": "python",
   "nbconvert_exporter": "python",
   "pygments_lexer": "ipython3",
   "version": "3.8.8"
  }
 },
 "nbformat": 4,
 "nbformat_minor": 5
}
